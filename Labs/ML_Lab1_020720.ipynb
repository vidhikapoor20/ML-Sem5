{
  "nbformat": 4,
  "nbformat_minor": 0,
  "metadata": {
    "colab": {
      "name": "ML_Lab1_020720.ipynb",
      "provenance": [],
      "collapsed_sections": [],
      "authorship_tag": "ABX9TyPoa9u32uUS8PvXY8ky9GCh",
      "include_colab_link": true
    },
    "kernelspec": {
      "name": "python3",
      "display_name": "Python 3"
    }
  },
  "cells": [
    {
      "cell_type": "markdown",
      "metadata": {
        "id": "view-in-github",
        "colab_type": "text"
      },
      "source": [
        "<a href=\"https://colab.research.google.com/github/vidhikapoor20/ML-Sem5/blob/master/Labs/ML_Lab1_020720.ipynb\" target=\"_parent\"><img src=\"https://colab.research.google.com/assets/colab-badge.svg\" alt=\"Open In Colab\"/></a>"
      ]
    },
    {
      "cell_type": "code",
      "metadata": {
        "id": "JiUqACIamljc",
        "colab_type": "code",
        "colab": {}
      },
      "source": [
        "##importing the libraries\n",
        "import pandas as pd\n",
        "import numpy as np\n",
        "import matplotlib.pyplot as plt"
      ],
      "execution_count": 17,
      "outputs": []
    },
    {
      "cell_type": "code",
      "metadata": {
        "id": "K-taTr5bm6Fm",
        "colab_type": "code",
        "colab": {}
      },
      "source": [
        "##Reading the excel sheet into df\n",
        "df = pd.read_csv('depression_lab1.csv')"
      ],
      "execution_count": 2,
      "outputs": []
    },
    {
      "cell_type": "code",
      "metadata": {
        "id": "SEVIVp1Xm_Ui",
        "colab_type": "code",
        "colab": {
          "base_uri": "https://localhost:8080/",
          "height": 197
        },
        "outputId": "13df1c66-e5fd-4782-e370-3876dd61f19b"
      },
      "source": [
        "df.head()"
      ],
      "execution_count": 3,
      "outputs": [
        {
          "output_type": "execute_result",
          "data": {
            "text/html": [
              "<div>\n",
              "<style scoped>\n",
              "    .dataframe tbody tr th:only-of-type {\n",
              "        vertical-align: middle;\n",
              "    }\n",
              "\n",
              "    .dataframe tbody tr th {\n",
              "        vertical-align: top;\n",
              "    }\n",
              "\n",
              "    .dataframe thead th {\n",
              "        text-align: right;\n",
              "    }\n",
              "</style>\n",
              "<table border=\"1\" class=\"dataframe\">\n",
              "  <thead>\n",
              "    <tr style=\"text-align: right;\">\n",
              "      <th></th>\n",
              "      <th>Unnamed: 0</th>\n",
              "      <th>Hospt</th>\n",
              "      <th>Treat</th>\n",
              "      <th>Outcome</th>\n",
              "      <th>Time</th>\n",
              "      <th>AcuteT</th>\n",
              "      <th>Age</th>\n",
              "      <th>Gender</th>\n",
              "    </tr>\n",
              "  </thead>\n",
              "  <tbody>\n",
              "    <tr>\n",
              "      <th>0</th>\n",
              "      <td>1</td>\n",
              "      <td>1</td>\n",
              "      <td>0</td>\n",
              "      <td>1</td>\n",
              "      <td>36.143002</td>\n",
              "      <td>211</td>\n",
              "      <td>33</td>\n",
              "      <td>1</td>\n",
              "    </tr>\n",
              "    <tr>\n",
              "      <th>1</th>\n",
              "      <td>2</td>\n",
              "      <td>1</td>\n",
              "      <td>1</td>\n",
              "      <td>0</td>\n",
              "      <td>105.142998</td>\n",
              "      <td>176</td>\n",
              "      <td>49</td>\n",
              "      <td>1</td>\n",
              "    </tr>\n",
              "    <tr>\n",
              "      <th>2</th>\n",
              "      <td>3</td>\n",
              "      <td>1</td>\n",
              "      <td>1</td>\n",
              "      <td>0</td>\n",
              "      <td>74.570999</td>\n",
              "      <td>191</td>\n",
              "      <td>50</td>\n",
              "      <td>1</td>\n",
              "    </tr>\n",
              "    <tr>\n",
              "      <th>3</th>\n",
              "      <td>4</td>\n",
              "      <td>1</td>\n",
              "      <td>0</td>\n",
              "      <td>1</td>\n",
              "      <td>49.714001</td>\n",
              "      <td>206</td>\n",
              "      <td>29</td>\n",
              "      <td>2</td>\n",
              "    </tr>\n",
              "    <tr>\n",
              "      <th>4</th>\n",
              "      <td>5</td>\n",
              "      <td>1</td>\n",
              "      <td>0</td>\n",
              "      <td>0</td>\n",
              "      <td>14.429000</td>\n",
              "      <td>63</td>\n",
              "      <td>29</td>\n",
              "      <td>1</td>\n",
              "    </tr>\n",
              "  </tbody>\n",
              "</table>\n",
              "</div>"
            ],
            "text/plain": [
              "   Unnamed: 0  Hospt  Treat  Outcome        Time  AcuteT  Age  Gender\n",
              "0           1      1      0        1   36.143002     211   33       1\n",
              "1           2      1      1        0  105.142998     176   49       1\n",
              "2           3      1      1        0   74.570999     191   50       1\n",
              "3           4      1      0        1   49.714001     206   29       2\n",
              "4           5      1      0        0   14.429000      63   29       1"
            ]
          },
          "metadata": {
            "tags": []
          },
          "execution_count": 3
        }
      ]
    },
    {
      "cell_type": "code",
      "metadata": {
        "id": "qsD4CNHBnD5d",
        "colab_type": "code",
        "colab": {
          "base_uri": "https://localhost:8080/",
          "height": 250
        },
        "outputId": "c2e70743-7266-4fa3-f2f2-b4ff062707e5"
      },
      "source": [
        "df.describe"
      ],
      "execution_count": 4,
      "outputs": [
        {
          "output_type": "execute_result",
          "data": {
            "text/plain": [
              "<bound method NDFrame.describe of      Unnamed: 0  Hospt  Treat  Outcome        Time  AcuteT  Age  Gender\n",
              "0             1      1      0        1   36.143002     211   33       1\n",
              "1             2      1      1        0  105.142998     176   49       1\n",
              "2             3      1      1        0   74.570999     191   50       1\n",
              "3             4      1      0        1   49.714001     206   29       2\n",
              "4             5      1      0        0   14.429000      63   29       1\n",
              "..          ...    ...    ...      ...         ...     ...  ...     ...\n",
              "104         105      6      2        1   20.857000     207   43       1\n",
              "105         106      6      2        1   18.285999     102   29       1\n",
              "106         107      6      1        1   31.857000     154   28       1\n",
              "107         108      6      1        1   22.000000     203   51       1\n",
              "108         109      6      0        1    2.000000     176   33       1\n",
              "\n",
              "[109 rows x 8 columns]>"
            ]
          },
          "metadata": {
            "tags": []
          },
          "execution_count": 4
        }
      ]
    },
    {
      "cell_type": "code",
      "metadata": {
        "id": "e6NrwpMInHV8",
        "colab_type": "code",
        "colab": {
          "base_uri": "https://localhost:8080/",
          "height": 167
        },
        "outputId": "5d650818-2f1b-4894-cc58-71a9f16c26d2"
      },
      "source": [
        "##Checking the data tyes of columns in the dataframe\n",
        "df.dtypes"
      ],
      "execution_count": 5,
      "outputs": [
        {
          "output_type": "execute_result",
          "data": {
            "text/plain": [
              "Unnamed: 0      int64\n",
              "Hospt           int64\n",
              "Treat           int64\n",
              "Outcome         int64\n",
              "Time          float64\n",
              "AcuteT          int64\n",
              "Age             int64\n",
              "Gender          int64\n",
              "dtype: object"
            ]
          },
          "metadata": {
            "tags": []
          },
          "execution_count": 5
        }
      ]
    },
    {
      "cell_type": "code",
      "metadata": {
        "id": "9l1qf288npRU",
        "colab_type": "code",
        "colab": {}
      },
      "source": [
        "## Dropping the unnamed column as no use to us\n",
        "df.drop('Unnamed: 0',axis=1,inplace=True)"
      ],
      "execution_count": 6,
      "outputs": []
    },
    {
      "cell_type": "code",
      "metadata": {
        "id": "HsEPZG0Bns3v",
        "colab_type": "code",
        "colab": {
          "base_uri": "https://localhost:8080/",
          "height": 150
        },
        "outputId": "f561f93d-8524-4228-8db4-cb3283755a23"
      },
      "source": [
        "#Checking the sum of na values \n",
        "(df.isna().sum())"
      ],
      "execution_count": 7,
      "outputs": [
        {
          "output_type": "execute_result",
          "data": {
            "text/plain": [
              "Hospt      0\n",
              "Treat      0\n",
              "Outcome    0\n",
              "Time       0\n",
              "AcuteT     0\n",
              "Age        0\n",
              "Gender     0\n",
              "dtype: int64"
            ]
          },
          "metadata": {
            "tags": []
          },
          "execution_count": 7
        }
      ]
    },
    {
      "cell_type": "code",
      "metadata": {
        "id": "Jdtpr5don9Tq",
        "colab_type": "code",
        "colab": {}
      },
      "source": [
        "## Changing the gender column to male and female respectively\n",
        "df['Gender'].replace(1,\"Female\",inplace=True)"
      ],
      "execution_count": 8,
      "outputs": []
    },
    {
      "cell_type": "code",
      "metadata": {
        "id": "W8nrixJGo31b",
        "colab_type": "code",
        "colab": {}
      },
      "source": [
        "df['Gender'].replace(2,\"Male\",inplace=True)"
      ],
      "execution_count": 9,
      "outputs": []
    },
    {
      "cell_type": "code",
      "metadata": {
        "id": "d10_uP0yo80n",
        "colab_type": "code",
        "colab": {
          "base_uri": "https://localhost:8080/",
          "height": 197
        },
        "outputId": "5dcc551a-782b-4c79-907d-87f43a433591"
      },
      "source": [
        "## Checking the first 5 rows of the dataframe.\n",
        "df.head()"
      ],
      "execution_count": 10,
      "outputs": [
        {
          "output_type": "execute_result",
          "data": {
            "text/html": [
              "<div>\n",
              "<style scoped>\n",
              "    .dataframe tbody tr th:only-of-type {\n",
              "        vertical-align: middle;\n",
              "    }\n",
              "\n",
              "    .dataframe tbody tr th {\n",
              "        vertical-align: top;\n",
              "    }\n",
              "\n",
              "    .dataframe thead th {\n",
              "        text-align: right;\n",
              "    }\n",
              "</style>\n",
              "<table border=\"1\" class=\"dataframe\">\n",
              "  <thead>\n",
              "    <tr style=\"text-align: right;\">\n",
              "      <th></th>\n",
              "      <th>Hospt</th>\n",
              "      <th>Treat</th>\n",
              "      <th>Outcome</th>\n",
              "      <th>Time</th>\n",
              "      <th>AcuteT</th>\n",
              "      <th>Age</th>\n",
              "      <th>Gender</th>\n",
              "    </tr>\n",
              "  </thead>\n",
              "  <tbody>\n",
              "    <tr>\n",
              "      <th>0</th>\n",
              "      <td>1</td>\n",
              "      <td>0</td>\n",
              "      <td>1</td>\n",
              "      <td>36.143002</td>\n",
              "      <td>211</td>\n",
              "      <td>33</td>\n",
              "      <td>Female</td>\n",
              "    </tr>\n",
              "    <tr>\n",
              "      <th>1</th>\n",
              "      <td>1</td>\n",
              "      <td>1</td>\n",
              "      <td>0</td>\n",
              "      <td>105.142998</td>\n",
              "      <td>176</td>\n",
              "      <td>49</td>\n",
              "      <td>Female</td>\n",
              "    </tr>\n",
              "    <tr>\n",
              "      <th>2</th>\n",
              "      <td>1</td>\n",
              "      <td>1</td>\n",
              "      <td>0</td>\n",
              "      <td>74.570999</td>\n",
              "      <td>191</td>\n",
              "      <td>50</td>\n",
              "      <td>Female</td>\n",
              "    </tr>\n",
              "    <tr>\n",
              "      <th>3</th>\n",
              "      <td>1</td>\n",
              "      <td>0</td>\n",
              "      <td>1</td>\n",
              "      <td>49.714001</td>\n",
              "      <td>206</td>\n",
              "      <td>29</td>\n",
              "      <td>Male</td>\n",
              "    </tr>\n",
              "    <tr>\n",
              "      <th>4</th>\n",
              "      <td>1</td>\n",
              "      <td>0</td>\n",
              "      <td>0</td>\n",
              "      <td>14.429000</td>\n",
              "      <td>63</td>\n",
              "      <td>29</td>\n",
              "      <td>Female</td>\n",
              "    </tr>\n",
              "  </tbody>\n",
              "</table>\n",
              "</div>"
            ],
            "text/plain": [
              "   Hospt  Treat  Outcome        Time  AcuteT  Age  Gender\n",
              "0      1      0        1   36.143002     211   33  Female\n",
              "1      1      1        0  105.142998     176   49  Female\n",
              "2      1      1        0   74.570999     191   50  Female\n",
              "3      1      0        1   49.714001     206   29    Male\n",
              "4      1      0        0   14.429000      63   29  Female"
            ]
          },
          "metadata": {
            "tags": []
          },
          "execution_count": 10
        }
      ]
    },
    {
      "cell_type": "markdown",
      "metadata": {
        "id": "OYZLlmrDQZA_",
        "colab_type": "text"
      },
      "source": [
        "Question 1 : Categorical variables in the dataset (depression) - HospT, Treat,Outcome, Gender\n",
        "\n",
        "Question 2 : Quantitative variables in the dataset (depression) - TIme, AcuteT, Age."
      ]
    },
    {
      "cell_type": "code",
      "metadata": {
        "id": "LqdiqvhHRW4q",
        "colab_type": "code",
        "colab": {}
      },
      "source": [
        "# Friends dataset "
      ],
      "execution_count": 1,
      "outputs": []
    },
    {
      "cell_type": "code",
      "metadata": {
        "id": "d5zAW2MsRZ9v",
        "colab_type": "code",
        "colab": {}
      },
      "source": [
        "df2=pd.read_csv('friends_lab1.csv')"
      ],
      "execution_count": 4,
      "outputs": []
    },
    {
      "cell_type": "code",
      "metadata": {
        "id": "PtlurLqsRtbr",
        "colab_type": "code",
        "colab": {
          "base_uri": "https://localhost:8080/",
          "height": 197
        },
        "outputId": "950bec94-259e-492b-d14b-ebe8eff04a4e"
      },
      "source": [
        "df2.head()"
      ],
      "execution_count": 8,
      "outputs": [
        {
          "output_type": "execute_result",
          "data": {
            "text/html": [
              "<div>\n",
              "<style scoped>\n",
              "    .dataframe tbody tr th:only-of-type {\n",
              "        vertical-align: middle;\n",
              "    }\n",
              "\n",
              "    .dataframe tbody tr th {\n",
              "        vertical-align: top;\n",
              "    }\n",
              "\n",
              "    .dataframe thead th {\n",
              "        text-align: right;\n",
              "    }\n",
              "</style>\n",
              "<table border=\"1\" class=\"dataframe\">\n",
              "  <thead>\n",
              "    <tr style=\"text-align: right;\">\n",
              "      <th></th>\n",
              "      <th>Unnamed: 0</th>\n",
              "      <th>Friends</th>\n",
              "    </tr>\n",
              "  </thead>\n",
              "  <tbody>\n",
              "    <tr>\n",
              "      <th>0</th>\n",
              "      <td>1</td>\n",
              "      <td>No difference</td>\n",
              "    </tr>\n",
              "    <tr>\n",
              "      <th>1</th>\n",
              "      <td>2</td>\n",
              "      <td>No difference</td>\n",
              "    </tr>\n",
              "    <tr>\n",
              "      <th>2</th>\n",
              "      <td>3</td>\n",
              "      <td>No difference</td>\n",
              "    </tr>\n",
              "    <tr>\n",
              "      <th>3</th>\n",
              "      <td>4</td>\n",
              "      <td>No difference</td>\n",
              "    </tr>\n",
              "    <tr>\n",
              "      <th>4</th>\n",
              "      <td>5</td>\n",
              "      <td>No difference</td>\n",
              "    </tr>\n",
              "  </tbody>\n",
              "</table>\n",
              "</div>"
            ],
            "text/plain": [
              "   Unnamed: 0        Friends\n",
              "0           1  No difference\n",
              "1           2  No difference\n",
              "2           3  No difference\n",
              "3           4  No difference\n",
              "4           5  No difference"
            ]
          },
          "metadata": {
            "tags": []
          },
          "execution_count": 8
        }
      ]
    },
    {
      "cell_type": "code",
      "metadata": {
        "id": "Ad2J75-JRzxq",
        "colab_type": "code",
        "colab": {}
      },
      "source": [
        "df2.drop('Unnamed: 0',axis=1,inplace=True)"
      ],
      "execution_count": 10,
      "outputs": []
    },
    {
      "cell_type": "code",
      "metadata": {
        "id": "NHqH7lOdSAaq",
        "colab_type": "code",
        "colab": {
          "base_uri": "https://localhost:8080/",
          "height": 197
        },
        "outputId": "97d0d9c7-33d4-4c86-ac6a-12965d6ccdd3"
      },
      "source": [
        "df2.head()"
      ],
      "execution_count": 11,
      "outputs": [
        {
          "output_type": "execute_result",
          "data": {
            "text/html": [
              "<div>\n",
              "<style scoped>\n",
              "    .dataframe tbody tr th:only-of-type {\n",
              "        vertical-align: middle;\n",
              "    }\n",
              "\n",
              "    .dataframe tbody tr th {\n",
              "        vertical-align: top;\n",
              "    }\n",
              "\n",
              "    .dataframe thead th {\n",
              "        text-align: right;\n",
              "    }\n",
              "</style>\n",
              "<table border=\"1\" class=\"dataframe\">\n",
              "  <thead>\n",
              "    <tr style=\"text-align: right;\">\n",
              "      <th></th>\n",
              "      <th>Friends</th>\n",
              "    </tr>\n",
              "  </thead>\n",
              "  <tbody>\n",
              "    <tr>\n",
              "      <th>0</th>\n",
              "      <td>No difference</td>\n",
              "    </tr>\n",
              "    <tr>\n",
              "      <th>1</th>\n",
              "      <td>No difference</td>\n",
              "    </tr>\n",
              "    <tr>\n",
              "      <th>2</th>\n",
              "      <td>No difference</td>\n",
              "    </tr>\n",
              "    <tr>\n",
              "      <th>3</th>\n",
              "      <td>No difference</td>\n",
              "    </tr>\n",
              "    <tr>\n",
              "      <th>4</th>\n",
              "      <td>No difference</td>\n",
              "    </tr>\n",
              "  </tbody>\n",
              "</table>\n",
              "</div>"
            ],
            "text/plain": [
              "         Friends\n",
              "0  No difference\n",
              "1  No difference\n",
              "2  No difference\n",
              "3  No difference\n",
              "4  No difference"
            ]
          },
          "metadata": {
            "tags": []
          },
          "execution_count": 11
        }
      ]
    },
    {
      "cell_type": "code",
      "metadata": {
        "id": "OwarR2r4SI2S",
        "colab_type": "code",
        "colab": {
          "base_uri": "https://localhost:8080/",
          "height": 83
        },
        "outputId": "50a86419-b9d1-42f8-f83b-322345efff54"
      },
      "source": [
        "##Sum of each category in the column\n",
        "df2.Friends.value_counts()"
      ],
      "execution_count": 12,
      "outputs": [
        {
          "output_type": "execute_result",
          "data": {
            "text/plain": [
              "No difference    602\n",
              "Opposite sex     434\n",
              "Same sex         164\n",
              "Name: Friends, dtype: int64"
            ]
          },
          "metadata": {
            "tags": []
          },
          "execution_count": 12
        }
      ]
    },
    {
      "cell_type": "code",
      "metadata": {
        "id": "ER4v7AoHT6iZ",
        "colab_type": "code",
        "colab": {}
      },
      "source": [
        "##percentage of each category in the columns \n",
        "percent = df2.Friends.value_counts(normalize=True)*100"
      ],
      "execution_count": 19,
      "outputs": []
    },
    {
      "cell_type": "code",
      "metadata": {
        "id": "u7TqwBsLUKXN",
        "colab_type": "code",
        "colab": {
          "base_uri": "https://localhost:8080/",
          "height": 83
        },
        "outputId": "44bce69d-fe4e-440c-935f-01745a223099"
      },
      "source": [
        "percent"
      ],
      "execution_count": 20,
      "outputs": [
        {
          "output_type": "execute_result",
          "data": {
            "text/plain": [
              "No difference    50.166667\n",
              "Opposite sex     36.166667\n",
              "Same sex         13.666667\n",
              "Name: Friends, dtype: float64"
            ]
          },
          "metadata": {
            "tags": []
          },
          "execution_count": 20
        }
      ]
    },
    {
      "cell_type": "code",
      "metadata": {
        "id": "p70v2FWeWEii",
        "colab_type": "code",
        "colab": {
          "base_uri": "https://localhost:8080/",
          "height": 33
        },
        "outputId": "c2c4e5f6-a332-4971-d9b4-47294260ead2"
      },
      "source": [
        "percent.dtype"
      ],
      "execution_count": 23,
      "outputs": [
        {
          "output_type": "execute_result",
          "data": {
            "text/plain": [
              "dtype('float64')"
            ]
          },
          "metadata": {
            "tags": []
          },
          "execution_count": 23
        }
      ]
    },
    {
      "cell_type": "code",
      "metadata": {
        "id": "BozpEfstWMhv",
        "colab_type": "code",
        "colab": {}
      },
      "source": [
        "friendsvalue = [602,434,164]"
      ],
      "execution_count": 30,
      "outputs": []
    },
    {
      "cell_type": "code",
      "metadata": {
        "id": "aRInjTHpUmWy",
        "colab_type": "code",
        "colab": {
          "base_uri": "https://localhost:8080/",
          "height": 319
        },
        "outputId": "2be90fc3-059b-46db-9f0b-ab49aa007a12"
      },
      "source": [
        "fig = plt.figure()\n",
        "ax = fig.add_axes([0,0,1,1])\n",
        "ax.axis('equal')\n",
        "label = ['No difference','Opposite sex','Same sex']\n",
        "ax.pie(friendsvalue, labels=label)\n",
        "plt.show()\n"
      ],
      "execution_count": 31,
      "outputs": [
        {
          "output_type": "display_data",
          "data": {
            "image/png": "[encoded data removed]",
            "text/plain": [
              "<Figure size 432x288 with 1 Axes>"
            ]
          },
          "metadata": {
            "tags": []
          }
        }
      ]
    },
    {
      "cell_type": "markdown",
      "metadata": {
        "id": "WYKPgPb1YPt4",
        "colab_type": "text"
      },
      "source": [
        "Question 3 : Describe the distribution of the variable \"friends\" in the friend dataset - The students are NOT divided equally among the three categories. About 50% of the students find it as easy to make friends with the opposite sex as with the same sex. Among the remaining 50% of the students, the majority (36.2%) find it easier to make friends with people of the opposite sex, and the remainder (13.7%) find it easier to make friends with people of their own sex."
      ]
    },
    {
      "cell_type": "code",
      "metadata": {
        "id": "Il9t2D3FYl_P",
        "colab_type": "code",
        "colab": {}
      },
      "source": [
        "df3 = pd.read_csv('actor_age_lab1.csv')"
      ],
      "execution_count": 32,
      "outputs": []
    },
    {
      "cell_type": "code",
      "metadata": {
        "id": "0xZwkna5Zzl6",
        "colab_type": "code",
        "colab": {
          "base_uri": "https://localhost:8080/",
          "height": 197
        },
        "outputId": "25338651-4a10-4416-c095-40a1bd2e1118"
      },
      "source": [
        "df3.head()"
      ],
      "execution_count": 33,
      "outputs": [
        {
          "output_type": "execute_result",
          "data": {
            "text/html": [
              "<div>\n",
              "<style scoped>\n",
              "    .dataframe tbody tr th:only-of-type {\n",
              "        vertical-align: middle;\n",
              "    }\n",
              "\n",
              "    .dataframe tbody tr th {\n",
              "        vertical-align: top;\n",
              "    }\n",
              "\n",
              "    .dataframe thead th {\n",
              "        text-align: right;\n",
              "    }\n",
              "</style>\n",
              "<table border=\"1\" class=\"dataframe\">\n",
              "  <thead>\n",
              "    <tr style=\"text-align: right;\">\n",
              "      <th></th>\n",
              "      <th>Unnamed: 0</th>\n",
              "      <th>Age</th>\n",
              "    </tr>\n",
              "  </thead>\n",
              "  <tbody>\n",
              "    <tr>\n",
              "      <th>0</th>\n",
              "      <td>1</td>\n",
              "      <td>43</td>\n",
              "    </tr>\n",
              "    <tr>\n",
              "      <th>1</th>\n",
              "      <td>2</td>\n",
              "      <td>42</td>\n",
              "    </tr>\n",
              "    <tr>\n",
              "      <th>2</th>\n",
              "      <td>3</td>\n",
              "      <td>48</td>\n",
              "    </tr>\n",
              "    <tr>\n",
              "      <th>3</th>\n",
              "      <td>4</td>\n",
              "      <td>49</td>\n",
              "    </tr>\n",
              "    <tr>\n",
              "      <th>4</th>\n",
              "      <td>5</td>\n",
              "      <td>56</td>\n",
              "    </tr>\n",
              "  </tbody>\n",
              "</table>\n",
              "</div>"
            ],
            "text/plain": [
              "   Unnamed: 0  Age\n",
              "0           1   43\n",
              "1           2   42\n",
              "2           3   48\n",
              "3           4   49\n",
              "4           5   56"
            ]
          },
          "metadata": {
            "tags": []
          },
          "execution_count": 33
        }
      ]
    },
    {
      "cell_type": "code",
      "metadata": {
        "id": "NzMkYGspZ0-J",
        "colab_type": "code",
        "colab": {}
      },
      "source": [
        "df3.drop('Unnamed: 0',axis=1,inplace=True)"
      ],
      "execution_count": 35,
      "outputs": []
    },
    {
      "cell_type": "code",
      "metadata": {
        "id": "wpacDHZ7Z5_P",
        "colab_type": "code",
        "colab": {
          "base_uri": "https://localhost:8080/",
          "height": 197
        },
        "outputId": "6bcd5e82-e24e-472b-efd0-cdcbafe96d2e"
      },
      "source": [
        "df3.head()"
      ],
      "execution_count": 36,
      "outputs": [
        {
          "output_type": "execute_result",
          "data": {
            "text/html": [
              "<div>\n",
              "<style scoped>\n",
              "    .dataframe tbody tr th:only-of-type {\n",
              "        vertical-align: middle;\n",
              "    }\n",
              "\n",
              "    .dataframe tbody tr th {\n",
              "        vertical-align: top;\n",
              "    }\n",
              "\n",
              "    .dataframe thead th {\n",
              "        text-align: right;\n",
              "    }\n",
              "</style>\n",
              "<table border=\"1\" class=\"dataframe\">\n",
              "  <thead>\n",
              "    <tr style=\"text-align: right;\">\n",
              "      <th></th>\n",
              "      <th>Age</th>\n",
              "    </tr>\n",
              "  </thead>\n",
              "  <tbody>\n",
              "    <tr>\n",
              "      <th>0</th>\n",
              "      <td>43</td>\n",
              "    </tr>\n",
              "    <tr>\n",
              "      <th>1</th>\n",
              "      <td>42</td>\n",
              "    </tr>\n",
              "    <tr>\n",
              "      <th>2</th>\n",
              "      <td>48</td>\n",
              "    </tr>\n",
              "    <tr>\n",
              "      <th>3</th>\n",
              "      <td>49</td>\n",
              "    </tr>\n",
              "    <tr>\n",
              "      <th>4</th>\n",
              "      <td>56</td>\n",
              "    </tr>\n",
              "  </tbody>\n",
              "</table>\n",
              "</div>"
            ],
            "text/plain": [
              "   Age\n",
              "0   43\n",
              "1   42\n",
              "2   48\n",
              "3   49\n",
              "4   56"
            ]
          },
          "metadata": {
            "tags": []
          },
          "execution_count": 36
        }
      ]
    },
    {
      "cell_type": "code",
      "metadata": {
        "id": "ut14W7tDZ9BV",
        "colab_type": "code",
        "colab": {
          "base_uri": "https://localhost:8080/",
          "height": 281
        },
        "outputId": "bc6187b0-433c-4541-cb1d-9464e70c10a5"
      },
      "source": [
        "plt.hist(df3.Age)\n",
        "plt.ylabel=('Number of Actors')\n",
        "plt.xlabel=('Age of Best Actor Oscar Winners (1970-2013)')\n",
        "plt.title('Histogram for Age')\n",
        "plt.show()"
      ],
      "execution_count": 38,
      "outputs": [
        {
          "output_type": "display_data",
          "data": {
            "image/png": "[encoded data removed]",
            "text/plain": [
              "<Figure size 432x288 with 1 Axes>"
            ]
          },
          "metadata": {
            "tags": [],
            "needs_background": "light"
          }
        }
      ]
    },
    {
      "cell_type": "markdown",
      "metadata": {
        "id": "3oEXaYXWbrka",
        "colab_type": "text"
      },
      "source": [
        "Question 4 :\n",
        "Shape: the distribution is skewed right. This means that most actors receive the best acting Oscar at a relatively younger age (before age 48), and fewer at an older age.\n",
        "\n",
        "\n",
        "Center: The distribution seems to be centered at around 42-43. This means that about half the actors are 42 or younger when they receive the Oscar, and about half are older.\n",
        "\n",
        "\n",
        "Spread: The age distribution ranges from about 30 to about 75. The entire dataset is covered, then, by a range of 45 years. It should be noted, though, that there is one high outlier at around age 75, and the rest of the data ranges only from 30 to 60.\n",
        "\n",
        "\n",
        "Outliers: There is one high outlier at around age 75."
      ]
    },
    {
      "cell_type": "code",
      "metadata": {
        "id": "DoPbFFE6b46q",
        "colab_type": "code",
        "colab": {
          "base_uri": "https://localhost:8080/",
          "height": 287
        },
        "outputId": "616a439a-bd07-447f-bb7f-0b37589e9418"
      },
      "source": [
        "df3.describe()"
      ],
      "execution_count": 41,
      "outputs": [
        {
          "output_type": "execute_result",
          "data": {
            "text/html": [
              "<div>\n",
              "<style scoped>\n",
              "    .dataframe tbody tr th:only-of-type {\n",
              "        vertical-align: middle;\n",
              "    }\n",
              "\n",
              "    .dataframe tbody tr th {\n",
              "        vertical-align: top;\n",
              "    }\n",
              "\n",
              "    .dataframe thead th {\n",
              "        text-align: right;\n",
              "    }\n",
              "</style>\n",
              "<table border=\"1\" class=\"dataframe\">\n",
              "  <thead>\n",
              "    <tr style=\"text-align: right;\">\n",
              "      <th></th>\n",
              "      <th>Age</th>\n",
              "    </tr>\n",
              "  </thead>\n",
              "  <tbody>\n",
              "    <tr>\n",
              "      <th>count</th>\n",
              "      <td>44.000000</td>\n",
              "    </tr>\n",
              "    <tr>\n",
              "      <th>mean</th>\n",
              "      <td>44.977273</td>\n",
              "    </tr>\n",
              "    <tr>\n",
              "      <th>std</th>\n",
              "      <td>9.749153</td>\n",
              "    </tr>\n",
              "    <tr>\n",
              "      <th>min</th>\n",
              "      <td>29.000000</td>\n",
              "    </tr>\n",
              "    <tr>\n",
              "      <th>25%</th>\n",
              "      <td>38.000000</td>\n",
              "    </tr>\n",
              "    <tr>\n",
              "      <th>50%</th>\n",
              "      <td>43.500000</td>\n",
              "    </tr>\n",
              "    <tr>\n",
              "      <th>75%</th>\n",
              "      <td>50.250000</td>\n",
              "    </tr>\n",
              "    <tr>\n",
              "      <th>max</th>\n",
              "      <td>76.000000</td>\n",
              "    </tr>\n",
              "  </tbody>\n",
              "</table>\n",
              "</div>"
            ],
            "text/plain": [
              "             Age\n",
              "count  44.000000\n",
              "mean   44.977273\n",
              "std     9.749153\n",
              "min    29.000000\n",
              "25%    38.000000\n",
              "50%    43.500000\n",
              "75%    50.250000\n",
              "max    76.000000"
            ]
          },
          "metadata": {
            "tags": []
          },
          "execution_count": 41
        }
      ]
    },
    {
      "cell_type": "markdown",
      "metadata": {
        "id": "MZEZQXrGdsOM",
        "colab_type": "text"
      },
      "source": [
        "Question 5 : How many observations, mean, five number summary \n",
        "\n",
        "a. There are n = 44 observations in the data set (representing the age of the Best Actor Oscar winners of the 44 years from 1970 through 2013).\n",
        "\n",
        "\n",
        "b. Mean = 44.98\n",
        "\n",
        "\n",
        "c. The five-number summary is: min = 29, Q1 = 38, M = 43.5, Q3 = 50.5, Max = 76\n",
        "\n",
        "Question 6 : 50 %, range\n",
        "\n",
        "a. Half the actors won the Oscar before age 43.5 (the median). \n",
        "\n",
        "b. The range covered by all the ages is: Range = Max - min = 76 - 29 = 47.\n",
        "\n",
        "c. The range covered by the middle 50% of the ages is: IQR = Q3 - Q1 = 50.5 - 38 = 12.5\n"
      ]
    },
    {
      "cell_type": "code",
      "metadata": {
        "id": "DFEEMIBdd_zF",
        "colab_type": "code",
        "colab": {}
      },
      "source": [
        "df4 = pd.read_csv('grad_data_lab1.csv')"
      ],
      "execution_count": 42,
      "outputs": []
    },
    {
      "cell_type": "code",
      "metadata": {
        "id": "zZUlNUDnfL94",
        "colab_type": "code",
        "colab": {
          "base_uri": "https://localhost:8080/",
          "height": 197
        },
        "outputId": "1d67078d-066b-455d-c174-1b25b0edc056"
      },
      "source": [
        "df4.head()"
      ],
      "execution_count": 43,
      "outputs": [
        {
          "output_type": "execute_result",
          "data": {
            "text/html": [
              "<div>\n",
              "<style scoped>\n",
              "    .dataframe tbody tr th:only-of-type {\n",
              "        vertical-align: middle;\n",
              "    }\n",
              "\n",
              "    .dataframe tbody tr th {\n",
              "        vertical-align: top;\n",
              "    }\n",
              "\n",
              "    .dataframe thead th {\n",
              "        text-align: right;\n",
              "    }\n",
              "</style>\n",
              "<table border=\"1\" class=\"dataframe\">\n",
              "  <thead>\n",
              "    <tr style=\"text-align: right;\">\n",
              "      <th></th>\n",
              "      <th>Unnamed: 0</th>\n",
              "      <th>College.A</th>\n",
              "      <th>College.B</th>\n",
              "      <th>College.C</th>\n",
              "      <th>College.D</th>\n",
              "      <th>College.E</th>\n",
              "      <th>College.F</th>\n",
              "    </tr>\n",
              "  </thead>\n",
              "  <tbody>\n",
              "    <tr>\n",
              "      <th>0</th>\n",
              "      <td>1</td>\n",
              "      <td>57.6</td>\n",
              "      <td>70.1</td>\n",
              "      <td>54.5</td>\n",
              "      <td>80.1</td>\n",
              "      <td>71.3</td>\n",
              "      <td>68.8</td>\n",
              "    </tr>\n",
              "    <tr>\n",
              "      <th>1</th>\n",
              "      <td>2</td>\n",
              "      <td>43.2</td>\n",
              "      <td>69.6</td>\n",
              "      <td>55.6</td>\n",
              "      <td>77.3</td>\n",
              "      <td>62.6</td>\n",
              "      <td>61.0</td>\n",
              "    </tr>\n",
              "    <tr>\n",
              "      <th>2</th>\n",
              "      <td>3</td>\n",
              "      <td>49.6</td>\n",
              "      <td>67.3</td>\n",
              "      <td>56.9</td>\n",
              "      <td>74.7</td>\n",
              "      <td>54.5</td>\n",
              "      <td>57.7</td>\n",
              "    </tr>\n",
              "    <tr>\n",
              "      <th>3</th>\n",
              "      <td>4</td>\n",
              "      <td>51.4</td>\n",
              "      <td>76.7</td>\n",
              "      <td>71.0</td>\n",
              "      <td>79.2</td>\n",
              "      <td>57.5</td>\n",
              "      <td>66.4</td>\n",
              "    </tr>\n",
              "    <tr>\n",
              "      <th>4</th>\n",
              "      <td>5</td>\n",
              "      <td>69.9</td>\n",
              "      <td>69.4</td>\n",
              "      <td>73.3</td>\n",
              "      <td>84.6</td>\n",
              "      <td>55.0</td>\n",
              "      <td>75.2</td>\n",
              "    </tr>\n",
              "  </tbody>\n",
              "</table>\n",
              "</div>"
            ],
            "text/plain": [
              "   Unnamed: 0  College.A  College.B  College.C  College.D  College.E  College.F\n",
              "0           1       57.6       70.1       54.5       80.1       71.3       68.8\n",
              "1           2       43.2       69.6       55.6       77.3       62.6       61.0\n",
              "2           3       49.6       67.3       56.9       74.7       54.5       57.7\n",
              "3           4       51.4       76.7       71.0       79.2       57.5       66.4\n",
              "4           5       69.9       69.4       73.3       84.6       55.0       75.2"
            ]
          },
          "metadata": {
            "tags": []
          },
          "execution_count": 43
        }
      ]
    },
    {
      "cell_type": "code",
      "metadata": {
        "id": "azT1JtGDfeKc",
        "colab_type": "code",
        "colab": {}
      },
      "source": [
        "df4.drop('Unnamed: 0',inplace=True,axis=1)"
      ],
      "execution_count": 44,
      "outputs": []
    },
    {
      "cell_type": "code",
      "metadata": {
        "id": "PjQE9CcQfjej",
        "colab_type": "code",
        "colab": {
          "base_uri": "https://localhost:8080/",
          "height": 197
        },
        "outputId": "c18f1bd7-5e19-48a2-ca3a-641929610695"
      },
      "source": [
        "df4.head()"
      ],
      "execution_count": 45,
      "outputs": [
        {
          "output_type": "execute_result",
          "data": {
            "text/html": [
              "<div>\n",
              "<style scoped>\n",
              "    .dataframe tbody tr th:only-of-type {\n",
              "        vertical-align: middle;\n",
              "    }\n",
              "\n",
              "    .dataframe tbody tr th {\n",
              "        vertical-align: top;\n",
              "    }\n",
              "\n",
              "    .dataframe thead th {\n",
              "        text-align: right;\n",
              "    }\n",
              "</style>\n",
              "<table border=\"1\" class=\"dataframe\">\n",
              "  <thead>\n",
              "    <tr style=\"text-align: right;\">\n",
              "      <th></th>\n",
              "      <th>College.A</th>\n",
              "      <th>College.B</th>\n",
              "      <th>College.C</th>\n",
              "      <th>College.D</th>\n",
              "      <th>College.E</th>\n",
              "      <th>College.F</th>\n",
              "    </tr>\n",
              "  </thead>\n",
              "  <tbody>\n",
              "    <tr>\n",
              "      <th>0</th>\n",
              "      <td>57.6</td>\n",
              "      <td>70.1</td>\n",
              "      <td>54.5</td>\n",
              "      <td>80.1</td>\n",
              "      <td>71.3</td>\n",
              "      <td>68.8</td>\n",
              "    </tr>\n",
              "    <tr>\n",
              "      <th>1</th>\n",
              "      <td>43.2</td>\n",
              "      <td>69.6</td>\n",
              "      <td>55.6</td>\n",
              "      <td>77.3</td>\n",
              "      <td>62.6</td>\n",
              "      <td>61.0</td>\n",
              "    </tr>\n",
              "    <tr>\n",
              "      <th>2</th>\n",
              "      <td>49.6</td>\n",
              "      <td>67.3</td>\n",
              "      <td>56.9</td>\n",
              "      <td>74.7</td>\n",
              "      <td>54.5</td>\n",
              "      <td>57.7</td>\n",
              "    </tr>\n",
              "    <tr>\n",
              "      <th>3</th>\n",
              "      <td>51.4</td>\n",
              "      <td>76.7</td>\n",
              "      <td>71.0</td>\n",
              "      <td>79.2</td>\n",
              "      <td>57.5</td>\n",
              "      <td>66.4</td>\n",
              "    </tr>\n",
              "    <tr>\n",
              "      <th>4</th>\n",
              "      <td>69.9</td>\n",
              "      <td>69.4</td>\n",
              "      <td>73.3</td>\n",
              "      <td>84.6</td>\n",
              "      <td>55.0</td>\n",
              "      <td>75.2</td>\n",
              "    </tr>\n",
              "  </tbody>\n",
              "</table>\n",
              "</div>"
            ],
            "text/plain": [
              "   College.A  College.B  College.C  College.D  College.E  College.F\n",
              "0       57.6       70.1       54.5       80.1       71.3       68.8\n",
              "1       43.2       69.6       55.6       77.3       62.6       61.0\n",
              "2       49.6       67.3       56.9       74.7       54.5       57.7\n",
              "3       51.4       76.7       71.0       79.2       57.5       66.4\n",
              "4       69.9       69.4       73.3       84.6       55.0       75.2"
            ]
          },
          "metadata": {
            "tags": []
          },
          "execution_count": 45
        }
      ]
    },
    {
      "cell_type": "code",
      "metadata": {
        "id": "A7rJyXiGfk_j",
        "colab_type": "code",
        "colab": {
          "base_uri": "https://localhost:8080/",
          "height": 265
        },
        "outputId": "aeba8a8e-c5bc-40c4-b5ad-bbbac6599f58"
      },
      "source": [
        "plt.boxplot(df4)\n",
        "plt.ylabel='Colleges'\n",
        "plt.xlabel='Graduation Rates'\n",
        "plt.title='Comparision of Graduation rates'\n",
        "plt.show()"
      ],
      "execution_count": 47,
      "outputs": [
        {
          "output_type": "display_data",
          "data": {
            "image/png": "[encoded data removed]",
            "text/plain": [
              "<Figure size 432x288 with 1 Axes>"
            ]
          },
          "metadata": {
            "tags": [],
            "needs_background": "light"
          }
        }
      ]
    },
    {
      "cell_type": "code",
      "metadata": {
        "id": "ZuMAP9Inf1nX",
        "colab_type": "code",
        "colab": {}
      },
      "source": [
        "df5 = pd.read_csv('ratings_lab1.csv')"
      ],
      "execution_count": 48,
      "outputs": []
    },
    {
      "cell_type": "code",
      "metadata": {
        "id": "_gDdRGDHgbTK",
        "colab_type": "code",
        "colab": {
          "base_uri": "https://localhost:8080/",
          "height": 197
        },
        "outputId": "1a377be3-cb8e-422a-8e28-7ee79232a11e"
      },
      "source": [
        "df5.head()"
      ],
      "execution_count": 49,
      "outputs": [
        {
          "output_type": "execute_result",
          "data": {
            "text/html": [
              "<div>\n",
              "<style scoped>\n",
              "    .dataframe tbody tr th:only-of-type {\n",
              "        vertical-align: middle;\n",
              "    }\n",
              "\n",
              "    .dataframe tbody tr th {\n",
              "        vertical-align: top;\n",
              "    }\n",
              "\n",
              "    .dataframe thead th {\n",
              "        text-align: right;\n",
              "    }\n",
              "</style>\n",
              "<table border=\"1\" class=\"dataframe\">\n",
              "  <thead>\n",
              "    <tr style=\"text-align: right;\">\n",
              "      <th></th>\n",
              "      <th>Unnamed: 0</th>\n",
              "      <th>Class.I</th>\n",
              "      <th>Class.II</th>\n",
              "      <th>Class.III</th>\n",
              "    </tr>\n",
              "  </thead>\n",
              "  <tbody>\n",
              "    <tr>\n",
              "      <th>0</th>\n",
              "      <td>1</td>\n",
              "      <td>1</td>\n",
              "      <td>1</td>\n",
              "      <td>1</td>\n",
              "    </tr>\n",
              "    <tr>\n",
              "      <th>1</th>\n",
              "      <td>2</td>\n",
              "      <td>1</td>\n",
              "      <td>1</td>\n",
              "      <td>2</td>\n",
              "    </tr>\n",
              "    <tr>\n",
              "      <th>2</th>\n",
              "      <td>3</td>\n",
              "      <td>5</td>\n",
              "      <td>1</td>\n",
              "      <td>3</td>\n",
              "    </tr>\n",
              "    <tr>\n",
              "      <th>3</th>\n",
              "      <td>4</td>\n",
              "      <td>5</td>\n",
              "      <td>1</td>\n",
              "      <td>4</td>\n",
              "    </tr>\n",
              "    <tr>\n",
              "      <th>4</th>\n",
              "      <td>5</td>\n",
              "      <td>5</td>\n",
              "      <td>1</td>\n",
              "      <td>5</td>\n",
              "    </tr>\n",
              "  </tbody>\n",
              "</table>\n",
              "</div>"
            ],
            "text/plain": [
              "   Unnamed: 0  Class.I  Class.II  Class.III\n",
              "0           1        1         1          1\n",
              "1           2        1         1          2\n",
              "2           3        5         1          3\n",
              "3           4        5         1          4\n",
              "4           5        5         1          5"
            ]
          },
          "metadata": {
            "tags": []
          },
          "execution_count": 49
        }
      ]
    },
    {
      "cell_type": "code",
      "metadata": {
        "id": "AijtDoFNgcjS",
        "colab_type": "code",
        "colab": {}
      },
      "source": [
        "df5.drop('Unnamed: 0',axis=1,inplace=True)"
      ],
      "execution_count": 50,
      "outputs": []
    },
    {
      "cell_type": "code",
      "metadata": {
        "id": "XC5VyctZggau",
        "colab_type": "code",
        "colab": {
          "base_uri": "https://localhost:8080/",
          "height": 83
        },
        "outputId": "a047dbb0-a722-4a7f-873e-08663a1feb60"
      },
      "source": [
        "df5.std()"
      ],
      "execution_count": 54,
      "outputs": [
        {
          "output_type": "execute_result",
          "data": {
            "text/plain": [
              "Class.I      1.568929\n",
              "Class.II     4.000000\n",
              "Class.III    2.631174\n",
              "dtype: float64"
            ]
          },
          "metadata": {
            "tags": []
          },
          "execution_count": 54
        }
      ]
    },
    {
      "cell_type": "markdown",
      "metadata": {
        "id": "5s3ysvKriCe-",
        "colab_type": "text"
      },
      "source": [
        "Question 7 : what are the standard deviations of 3 rating distribution :\n",
        "Class I - 1.6\n",
        "Class II - 4\n",
        "Class III - 2.6\n",
        "\n",
        "The number of distinct values represented in a histogram does not necessarily indicate greater variability."
      ]
    },
    {
      "cell_type": "markdown",
      "metadata": {
        "id": "W5C3apZSix8_",
        "colab_type": "text"
      },
      "source": [
        "Question 8 : Assume that the average rating in each of the three classes is 5 (which should be visually reasonably clear from the histograms), and recall the interpretation of the SD as a \"typical\" or \"average\" distance between the data points and their mean. Judging from the table and the histograms, which class would have the largest standard deviation, and which one would have the smallest standard deviation? Explain your reasoning.\n",
        "\n",
        "Ans - In class I, almost all the ratings are 5, which is also the mean. The average distance between the observations and the mean, then, would be very small. In class II most of the observations are far from the mean (at 1 or 9). The average distance between the observations and the mean in this case would be larger. Class III is the case where some of the observations are close to the mean, and some are far, so the average distance between the observations and the mean would be somewhere in between class I and II. This observation would lead me to conclude that the standard deviation would be ranked (from smallest to largest): Class I, Class III, Class II."
      ]
    },
    {
      "cell_type": "code",
      "metadata": {
        "id": "ak_LEhL3i8Oz",
        "colab_type": "code",
        "colab": {}
      },
      "source": [
        ""
      ],
      "execution_count": null,
      "outputs": []
    }
  ]
}